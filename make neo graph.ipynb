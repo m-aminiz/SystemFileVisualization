{
 "cells": [
  {
   "cell_type": "code",
   "execution_count": 31,
   "outputs": [],
   "source": [
    "from os import listdir\n",
    "from os.path import isfile, join\n",
    "mypath='C:\\\\Users\\\\Alias\\\\Desktop\\\\HW9\\\\data'\n",
    "any=listdir(mypath)\n",
    "files=[(join(mypath, d)) for d in any if (isfile(join(mypath, d)))]\n",
    "dirs=[(join(mypath, d)) for d in any if not(isfile(join(mypath, d)))]\n",
    " "
   ],
   "metadata": {
    "collapsed": false,
    "pycharm": {
     "name": "#%%\n",
     "is_executing": false
    }
   }
  },
  {
   "cell_type": "code",
   "execution_count": 32,
   "outputs": [],
   "source": [
    "for d in dirs:\n",
    "    t=listdir(d)\n",
    "    fs=[(join(d,td)) for td in t if (isfile(join(d,td)))]\n",
    "    ds=[(join(d,td)) for td in t if not(isfile(join(d,td)))]\n",
    "    files=files+fs\n",
    "    dirs=dirs+ds"
   ],
   "metadata": {
    "collapsed": false,
    "pycharm": {
     "name": "#%%\n",
     "is_executing": false
    }
   }
  },
  {
   "cell_type": "code",
   "execution_count": 33,
   "outputs": [],
   "source": [
    "inits=[i for i in files if '.txt' in i]\n",
    "papers=[i for i in files if not '.txt' in i]\n",
    "paper_titles=[i[i.rindex('\\\\')+1:i.rindex('.')] for i in files if not '.txt' in i]\n",
    "dir_titles=[i[i.rindex('\\\\')+1:] for i in dirs]"
   ],
   "metadata": {
    "collapsed": false,
    "pycharm": {
     "name": "#%%\n",
     "is_executing": false
    }
   }
  },
  {
   "cell_type": "code",
   "execution_count": 34,
   "outputs": [],
   "source": [
    "# CREATE NODES\n",
    "command=\"\"\n",
    "for i in paper_titles:\n",
    "    command+=\"CREATE (\"+i\\\n",
    "        .replace(\" \",\"\")\\\n",
    "        .replace(\"(\",\"\")\\\n",
    "        .replace(\")\",\"\")\\\n",
    "        .replace(\"_\",\"\")\\\n",
    "        .replace(\"-\",\"\")\\\n",
    "        .replace(\",\",\"\")\\\n",
    "        .replace(\"&\",\"\")\\\n",
    "        .replace(\".\",\"\")\\\n",
    "        .replace(\"[\",\"\")\\\n",
    "        .replace(\"]\",\"\")\\\n",
    "        .replace(\"2\",\"Y\")\\\n",
    "             +\":File {title:'\"+i+\"'})\"\n",
    "    command+=\"\\n\"\n",
    "for i in dir_titles:\n",
    "    command+=\"CREATE (\"+i\\\n",
    "        .replace(\" \",\"\")\\\n",
    "        .replace(\"(\",\"\")\\\n",
    "        .replace(\")\",\"\")\\\n",
    "        .replace(\"_\",\"\")\\\n",
    "        .replace(\"-\",\"\")\\\n",
    "        .replace(\",\",\"\")\\\n",
    "        .replace(\"&\",\"\")\\\n",
    "        .replace(\".\",\"\")\\\n",
    "        .replace(\"[\",\"\")\\\n",
    "        .replace(\"]\",\"\")\\\n",
    "        .replace(\"2\",\"Y\")\\\n",
    "             +\":Folder {title:'\"+i+\"'})\"\n",
    "    command+=\"\\n\"\n",
    "\n",
    "# command+=\"CREATE\\n\""
   ],
   "metadata": {
    "collapsed": false,
    "pycharm": {
     "name": "#%%\n",
     "is_executing": false
    }
   }
  },
  {
   "cell_type": "code",
   "execution_count": 35,
   "outputs": [],
   "source": [
    "tagbag=[]\n",
    "relations=\"\"\n",
    "for i in range(len(inits)):\n",
    "    finit=open(inits[i],\"r\")\n",
    "    content=finit.read()\n",
    "    tags=content.splitlines()\n",
    "    for tag in tags:\n",
    "        relations+=\"(\"+paper_titles[i]\\\n",
    "            .replace(\" \",\"\")\\\n",
    "            .replace(\"(\",\"\")\\\n",
    "            .replace(\")\",\"\")\\\n",
    "            .replace(\"_\",\"\")\\\n",
    "            .replace(\"-\",\"\")\\\n",
    "            .replace(\",\",\"\")\\\n",
    "            .replace(\"&\",\"\")\\\n",
    "            .replace(\".\",\"\")\\\n",
    "            .replace(\"[\",\"\")\\\n",
    "            .replace(\"]\",\"\")\\\n",
    "            .replace(\"2\",\"Y\")\\\n",
    "                   +\")\"\n",
    "        relations+=\"-[:RELATED_TO {important:['YES']}]->(\"+tag.replace(\" \",\"\")+\"),\\n\"\n",
    "        \n",
    "        if tag not in dir_titles and tag not in tagbag:\n",
    "            tagbag.append(tag)"
   ],
   "metadata": {
    "collapsed": false,
    "pycharm": {
     "name": "#%%\n",
     "is_executing": false
    }
   }
  },
  {
   "cell_type": "code",
   "execution_count": 36,
   "outputs": [],
   "source": [
    "parent_rel=\"CREATE\\n\"\n",
    "for f in papers:\n",
    "    parent=f[:f.rindex('\\\\')][f[:f.rindex('\\\\')].rindex('\\\\')+1:]\n",
    "    parent_rel+=\"(\"+parent\\\n",
    "        .replace(\" \",\"\")\\\n",
    "        .replace(\"(\",\"\")\\\n",
    "        .replace(\")\",\"\")\\\n",
    "        .replace(\"_\",\"\")\\\n",
    "        .replace(\"-\",\"\")\\\n",
    "        .replace(\",\",\"\")\\\n",
    "        .replace(\"&\",\"\")\\\n",
    "        .replace(\".\",\"\")\\\n",
    "        .replace(\"[\",\"\")\\\n",
    "        .replace(\"]\",\"\")\\\n",
    "        .replace(\"2\",\"Y\")\\\n",
    "                +\")\"\n",
    "    parent_rel+=\"-[:PARENT_OF]->(\"+paper_titles[papers.index(f)]\\\n",
    "        .replace(\" \",\"\")\\\n",
    "        .replace(\"(\",\"\")\\\n",
    "        .replace(\")\",\"\")\\\n",
    "        .replace(\"_\",\"\")\\\n",
    "        .replace(\"-\",\"\")\\\n",
    "        .replace(\",\",\"\")\\\n",
    "        .replace(\"&\",\"\")\\\n",
    "        .replace(\".\",\"\")\\\n",
    "        .replace(\"[\",\"\")\\\n",
    "        .replace(\"]\",\"\")\\\n",
    "        .replace(\"2\",\"Y\")\\\n",
    "                +\"),\\n\""
   ],
   "metadata": {
    "collapsed": false,
    "pycharm": {
     "name": "#%%\n",
     "is_executing": false
    }
   }
  },
  {
   "cell_type": "code",
   "execution_count": 37,
   "outputs": [
    {
     "name": "stdout",
     "text": [
      "CREATE (PrenticeHallSeriesinArtificialIntelligenceStuartRussellPeterNorvigArtificialIntelligenceAModernApproachPrenticeHallY010:File {title:'(Prentice Hall Series in Artificial Intelligence) Stuart Russell, Peter Norvig-Artificial Intelligence_ A Modern Approach-Prentice Hall (2010)'})\n",
      "CREATE (BAMS:File {title:'BAMS'})\n",
      "CREATE (fengY018:File {title:'feng2018'})\n",
      "CREATE (StrategiesandPrinciplesofDistributedMachineLearningonBigData:File {title:'Strategies and Principles of Distributed Machine Learning on Big Data'})\n",
      "CREATE (Y007HowtoReadaPaper:File {title:'2007-How to Read a Paper'})\n",
      "CREATE (Y009GoogleFluTrends:File {title:'2009-Google Flu Trends'})\n",
      "CREATE (Y014TrapsinBigDataAnalysis:File {title:'2014Traps_in_Big_Data_Analysis'})\n",
      "CREATE (Y016BigDataPrinciplesandParadigms:File {title:'2016Big_Data_Principles_and_Paradigms'})\n",
      "CREATE (Y016MachineLearningModelsandAlgorithmsforBigDataClassificationThinkingwithExamplesforEffectiveLearningShanSuthaharanSpringerUS:File {title:'2016Machine_Learning_Models_and_Algorithms_for_Big_Data_Classification__Thinking_with_Examples_for_Effective_Learning_Shan_Suthaharan_Springer_US'})\n",
      "CREATE (ChallengesandtechniquesinBigdatasecurityandprivacy:File {title:'Challenges and techniques in Big data security and privacy'})\n",
      "CREATE (DataScienceBigDataAnalytics:File {title:'Data Science & Big Data Analytics'})\n",
      "CREATE (PrivacyPreservingEnrichedMapReducefor:File {title:'Privacy Preserving Enriched Map Reduce for'})\n",
      "CREATE (TextAnalysis:File {title:'Text Analysis'})\n",
      "CREATE (KoldaTensorsinMATLAB:File {title:'Kolda - Tensors in MATLAB'})\n",
      "CREATE (SpringerBriefsinComputerScience:File {title:'SpringerBriefs_in_Computer_Science'})\n",
      "CREATE (ClassificationDecisionTree:File {title:'Classification-Decision -Tree'})\n",
      "CREATE (ClusterEvaluation:File {title:'ClusterEvaluation'})\n",
      "CREATE (clustring:File {title:'clustring'})\n",
      "CREATE (dataminingbook:File {title:'data mining book'})\n",
      "CREATE (datawarehouseandOLAP:File {title:'data warehouse and OLAP'})\n",
      "CREATE (DBSCANOPTICS:File {title:'DBSCAN-OPTICS'})\n",
      "CREATE (HIERARCHICAL:File {title:'HIERARCHICAL'})\n",
      "CREATE (ModelEvaluationandSelection:File {title:'Model Evaluation and Selection'})\n",
      "CREATE (whatisbeyz:File {title:'what is beyz'})\n",
      "CREATE (whatisoutlieranalysis:File {title:'what is outlier analysis'})\n",
      "CREATE (HW5Report:File {title:'HW5 Report'})\n",
      "CREATE (HW6:File {title:'HW6'})\n",
      "CREATE (TarekAmrRaynaStamboliyskaauthPracticalD3jsApressY016:File {title:'Tarek Amr, Rayna Stamboliyska (auth.)-Practical D3.js-Apress (2016)'})\n",
      "CREATE (JonDuckettHTMLandCSSDesignandBuildWebsiBookFi:File {title:'[Jon_Duckett]_HTML_and_CSS_Design_and_Build_Websi(BookFi)'})\n",
      "CREATE (AI:Folder {title:'AI'})\n",
      "CREATE (BDMP:Folder {title:'BDMP'})\n",
      "CREATE (computationaldatamining:Folder {title:'computational data mining'})\n",
      "CREATE (datamining:Folder {title:'data mining'})\n",
      "CREATE (datavisualization:Folder {title:'data visualization'})\n",
      "\n",
      "CREATE (machinelearning:Tag {title:'machine learning'})\n",
      "CREATE (AIplanning:Tag {title:'AI planning'})\n",
      "CREATE (security:Tag {title:'security'})\n",
      "CREATE (IoP:Tag {title:'IoP'})\n",
      "CREATE (google:Tag {title:'google'})\n",
      "CREATE (classification:Tag {title:'classification'})\n",
      "CREATE (clustering:Tag {title:'clustering'})\n",
      "CREATE (hadoop:Tag {title:'hadoop'})\n",
      "CREATE (textmining:Tag {title:'text mining'})\n",
      "CREATE (tensor:Tag {title:'tensor'})\n",
      "CREATE (matlab:Tag {title:'matlab'})\n",
      "CREATE (matrix:Tag {title:'matrix'})\n",
      "CREATE (SVD:Tag {title:'SVD'})\n",
      "CREATE (decisiontree:Tag {title:'decision tree'})\n",
      "CREATE (datawarehouse:Tag {title:'data warehouse'})\n",
      "CREATE (OLAP:Tag {title:'OLAP'})\n",
      "CREATE (dbscan:Tag {title:'dbscan'})\n",
      "CREATE (optics:Tag {title:'optics'})\n",
      "CREATE (hierarchical:Tag {title:'hierarchical'})\n",
      "CREATE (beyz:Tag {title:'beyz'})\n",
      "CREATE (outlieranalysis:Tag {title:'outlier analysis'})\n",
      "\n",
      "CREATE\n",
      "(PrenticeHallSeriesinArtificialIntelligenceStuartRussellPeterNorvigArtificialIntelligenceAModernApproachPrenticeHallY010)-[:RELATED_TO {important:['YES']}]->(AI),\n",
      "(PrenticeHallSeriesinArtificialIntelligenceStuartRussellPeterNorvigArtificialIntelligenceAModernApproachPrenticeHallY010)-[:RELATED_TO {important:['YES']}]->(machinelearning),\n",
      "(PrenticeHallSeriesinArtificialIntelligenceStuartRussellPeterNorvigArtificialIntelligenceAModernApproachPrenticeHallY010)-[:RELATED_TO {important:['YES']}]->(AIplanning),\n",
      "(BAMS)-[:RELATED_TO {important:['YES']}]->(AIplanning),\n",
      "(BAMS)-[:RELATED_TO {important:['YES']}]->(AI),\n",
      "(BAMS)-[:RELATED_TO {important:['YES']}]->(security),\n",
      "(fengY018)-[:RELATED_TO {important:['YES']}]->(AI),\n",
      "(fengY018)-[:RELATED_TO {important:['YES']}]->(machinelearning),\n",
      "(fengY018)-[:RELATED_TO {important:['YES']}]->(security),\n",
      "(StrategiesandPrinciplesofDistributedMachineLearningonBigData)-[:RELATED_TO {important:['YES']}]->(AI),\n",
      "(StrategiesandPrinciplesofDistributedMachineLearningonBigData)-[:RELATED_TO {important:['YES']}]->(machinelearning),\n",
      "(StrategiesandPrinciplesofDistributedMachineLearningonBigData)-[:RELATED_TO {important:['YES']}]->(BDMP),\n",
      "(StrategiesandPrinciplesofDistributedMachineLearningonBigData)-[:RELATED_TO {important:['YES']}]->(computationaldatamining),\n",
      "(Y009GoogleFluTrends)-[:RELATED_TO {important:['YES']}]->(BDMP),\n",
      "(Y009GoogleFluTrends)-[:RELATED_TO {important:['YES']}]->(IoP),\n",
      "(Y009GoogleFluTrends)-[:RELATED_TO {important:['YES']}]->(google),\n",
      "(Y009GoogleFluTrends)-[:RELATED_TO {important:['YES']}]->(AI),\n",
      "(Y014TrapsinBigDataAnalysis)-[:RELATED_TO {important:['YES']}]->(BDMP),\n",
      "(Y014TrapsinBigDataAnalysis)-[:RELATED_TO {important:['YES']}]->(IoP),\n",
      "(Y014TrapsinBigDataAnalysis)-[:RELATED_TO {important:['YES']}]->(google),\n",
      "(Y016BigDataPrinciplesandParadigms)-[:RELATED_TO {important:['YES']}]->(datamining),\n",
      "(Y016BigDataPrinciplesandParadigms)-[:RELATED_TO {important:['YES']}]->(BDMP),\n",
      "(Y016BigDataPrinciplesandParadigms)-[:RELATED_TO {important:['YES']}]->(AI),\n",
      "(Y016MachineLearningModelsandAlgorithmsforBigDataClassificationThinkingwithExamplesforEffectiveLearningShanSuthaharanSpringerUS)-[:RELATED_TO {important:['YES']}]->(classification),\n",
      "(Y016MachineLearningModelsandAlgorithmsforBigDataClassificationThinkingwithExamplesforEffectiveLearningShanSuthaharanSpringerUS)-[:RELATED_TO {important:['YES']}]->(machinelearning),\n",
      "(Y016MachineLearningModelsandAlgorithmsforBigDataClassificationThinkingwithExamplesforEffectiveLearningShanSuthaharanSpringerUS)-[:RELATED_TO {important:['YES']}]->(AI),\n",
      "(Y016MachineLearningModelsandAlgorithmsforBigDataClassificationThinkingwithExamplesforEffectiveLearningShanSuthaharanSpringerUS)-[:RELATED_TO {important:['YES']}]->(BDMP),\n",
      "(Y016MachineLearningModelsandAlgorithmsforBigDataClassificationThinkingwithExamplesforEffectiveLearningShanSuthaharanSpringerUS)-[:RELATED_TO {important:['YES']}]->(clustering),\n",
      "(ChallengesandtechniquesinBigdatasecurityandprivacy)-[:RELATED_TO {important:['YES']}]->(BDMP),\n",
      "(ChallengesandtechniquesinBigdatasecurityandprivacy)-[:RELATED_TO {important:['YES']}]->(security),\n",
      "(DataScienceBigDataAnalytics)-[:RELATED_TO {important:['YES']}]->(datamining),\n",
      "(DataScienceBigDataAnalytics)-[:RELATED_TO {important:['YES']}]->(BDMP),\n",
      "(DataScienceBigDataAnalytics)-[:RELATED_TO {important:['YES']}]->(datavisualization),\n",
      "(PrivacyPreservingEnrichedMapReducefor)-[:RELATED_TO {important:['YES']}]->(security),\n",
      "(PrivacyPreservingEnrichedMapReducefor)-[:RELATED_TO {important:['YES']}]->(BDMP),\n",
      "(PrivacyPreservingEnrichedMapReducefor)-[:RELATED_TO {important:['YES']}]->(hadoop),\n",
      "(TextAnalysis)-[:RELATED_TO {important:['YES']}]->(datamining),\n",
      "(TextAnalysis)-[:RELATED_TO {important:['YES']}]->(textmining),\n",
      "(TextAnalysis)-[:RELATED_TO {important:['YES']}]->(AI),\n",
      "(KoldaTensorsinMATLAB)-[:RELATED_TO {important:['YES']}]->(datamining),\n",
      "(KoldaTensorsinMATLAB)-[:RELATED_TO {important:['YES']}]->(tensor),\n",
      "(KoldaTensorsinMATLAB)-[:RELATED_TO {important:['YES']}]->(matlab),\n",
      "(SpringerBriefsinComputerScience)-[:RELATED_TO {important:['YES']}]->(datamining),\n",
      "(SpringerBriefsinComputerScience)-[:RELATED_TO {important:['YES']}]->(tensor),\n",
      "(SpringerBriefsinComputerScience)-[:RELATED_TO {important:['YES']}]->(matrix),\n",
      "(SpringerBriefsinComputerScience)-[:RELATED_TO {important:['YES']}]->(SVD),\n",
      "(SpringerBriefsinComputerScience)-[:RELATED_TO {important:['YES']}]->(AI),\n",
      "(ClassificationDecisionTree)-[:RELATED_TO {important:['YES']}]->(datamining),\n",
      "(ClassificationDecisionTree)-[:RELATED_TO {important:['YES']}]->(classification),\n",
      "(ClassificationDecisionTree)-[:RELATED_TO {important:['YES']}]->(decisiontree),\n",
      "(ClassificationDecisionTree)-[:RELATED_TO {important:['YES']}]->(AI),\n",
      "(ClusterEvaluation)-[:RELATED_TO {important:['YES']}]->(datamining),\n",
      "(ClusterEvaluation)-[:RELATED_TO {important:['YES']}]->(clustering),\n",
      "(clustring)-[:RELATED_TO {important:['YES']}]->(datamining),\n",
      "(dataminingbook)-[:RELATED_TO {important:['YES']}]->(clustering),\n",
      "(dataminingbook)-[:RELATED_TO {important:['YES']}]->(classification),\n",
      "(dataminingbook)-[:RELATED_TO {important:['YES']}]->(datawarehouse),\n",
      "(datawarehouseandOLAP)-[:RELATED_TO {important:['YES']}]->(datawarehouse),\n",
      "(datawarehouseandOLAP)-[:RELATED_TO {important:['YES']}]->(OLAP),\n",
      "(DBSCANOPTICS)-[:RELATED_TO {important:['YES']}]->(clustering),\n",
      "(DBSCANOPTICS)-[:RELATED_TO {important:['YES']}]->(dbscan),\n",
      "(DBSCANOPTICS)-[:RELATED_TO {important:['YES']}]->(optics),\n",
      "(HIERARCHICAL)-[:RELATED_TO {important:['YES']}]->(clustering),\n",
      "(HIERARCHICAL)-[:RELATED_TO {important:['YES']}]->(hierarchical),\n",
      "(ModelEvaluationandSelection)-[:RELATED_TO {important:['YES']}]->(datamining),\n",
      "(ModelEvaluationandSelection)-[:RELATED_TO {important:['YES']}]->(AI),\n",
      "(whatisbeyz)-[:RELATED_TO {important:['YES']}]->(datamining),\n",
      "(whatisbeyz)-[:RELATED_TO {important:['YES']}]->(beyz),\n",
      "(whatisoutlieranalysis)-[:RELATED_TO {important:['YES']}]->(datamining),\n",
      "(whatisoutlieranalysis)-[:RELATED_TO {important:['YES']}]->(outlieranalysis),\n",
      "(whatisoutlieranalysis)-[:RELATED_TO {important:['YES']}]->(classification),\n",
      "(HW5Report)-[:RELATED_TO {important:['YES']}]->(datavisualization),\n",
      "(HW5Report)-[:RELATED_TO {important:['YES']}]->(datamining),\n",
      "(HW6)-[:RELATED_TO {important:['YES']}]->(datavisualization),\n",
      "(HW6)-[:RELATED_TO {important:['YES']}]->(google),\n",
      "(TarekAmrRaynaStamboliyskaauthPracticalD3jsApressY016)-[:RELATED_TO {important:['YES']}]->(datavisualization)CREATE\n",
      "(AI)-[:PARENT_OF]->(PrenticeHallSeriesinArtificialIntelligenceStuartRussellPeterNorvigArtificialIntelligenceAModernApproachPrenticeHallY010),\n",
      "(AI)-[:PARENT_OF]->(BAMS),\n",
      "(AI)-[:PARENT_OF]->(fengY018),\n",
      "(AI)-[:PARENT_OF]->(StrategiesandPrinciplesofDistributedMachineLearningonBigData),\n",
      "(BDMP)-[:PARENT_OF]->(Y007HowtoReadaPaper),\n",
      "(BDMP)-[:PARENT_OF]->(Y009GoogleFluTrends),\n",
      "(BDMP)-[:PARENT_OF]->(Y014TrapsinBigDataAnalysis),\n",
      "(BDMP)-[:PARENT_OF]->(Y016BigDataPrinciplesandParadigms),\n",
      "(BDMP)-[:PARENT_OF]->(Y016MachineLearningModelsandAlgorithmsforBigDataClassificationThinkingwithExamplesforEffectiveLearningShanSuthaharanSpringerUS),\n",
      "(BDMP)-[:PARENT_OF]->(ChallengesandtechniquesinBigdatasecurityandprivacy),\n",
      "(BDMP)-[:PARENT_OF]->(DataScienceBigDataAnalytics),\n",
      "(BDMP)-[:PARENT_OF]->(PrivacyPreservingEnrichedMapReducefor),\n",
      "(BDMP)-[:PARENT_OF]->(TextAnalysis),\n",
      "(computationaldatamining)-[:PARENT_OF]->(KoldaTensorsinMATLAB),\n",
      "(computationaldatamining)-[:PARENT_OF]->(SpringerBriefsinComputerScience),\n",
      "(datamining)-[:PARENT_OF]->(ClassificationDecisionTree),\n",
      "(datamining)-[:PARENT_OF]->(ClusterEvaluation),\n",
      "(datamining)-[:PARENT_OF]->(clustring),\n",
      "(datamining)-[:PARENT_OF]->(dataminingbook),\n",
      "(datamining)-[:PARENT_OF]->(datawarehouseandOLAP),\n",
      "(datamining)-[:PARENT_OF]->(DBSCANOPTICS),\n",
      "(datamining)-[:PARENT_OF]->(HIERARCHICAL),\n",
      "(datamining)-[:PARENT_OF]->(ModelEvaluationandSelection),\n",
      "(datamining)-[:PARENT_OF]->(whatisbeyz),\n",
      "(datamining)-[:PARENT_OF]->(whatisoutlieranalysis),\n",
      "(datavisualization)-[:PARENT_OF]->(HW5Report),\n",
      "(datavisualization)-[:PARENT_OF]->(HW6),\n",
      "(datavisualization)-[:PARENT_OF]->(TarekAmrRaynaStamboliyskaauthPracticalD3jsApressY016),\n",
      "(datavisualization)-[:PARENT_OF]->(JonDuckettHTMLandCSSDesignandBuildWebsiBookFi)\n"
     ],
     "output_type": "stream"
    }
   ],
   "source": [
    "for t in tagbag:\n",
    "    command+=\"\\nCREATE (\"+t.replace(\" \",\"\")+\":Tag {title:'\"+t+\"'})\"\n",
    "\n",
    "command+=\"\\n\\nCREATE\\n\"\n",
    "\n",
    "command+=relations[:relations.rindex(',')]\n",
    "command+=parent_rel[:parent_rel.rindex(',')]\n",
    "\n",
    "print(command)\n",
    "f= open(\"neo_commands.txt\",\"w+\")\n",
    "f.write(command)\n",
    "f.close() "
   ],
   "metadata": {
    "collapsed": false,
    "pycharm": {
     "name": "#%%\n",
     "is_executing": false
    }
   }
  },
  {
   "cell_type": "code",
   "execution_count": 37,
   "outputs": [],
   "source": [],
   "metadata": {
    "collapsed": false,
    "pycharm": {
     "name": "#%%\n",
     "is_executing": false
    }
   }
  },
  {
   "cell_type": "code",
   "execution_count": 37,
   "outputs": [],
   "source": [
    "\n"
   ],
   "metadata": {
    "collapsed": false,
    "pycharm": {
     "name": "#%%\n",
     "is_executing": false
    }
   }
  }
 ],
 "metadata": {
  "kernelspec": {
   "display_name": "Python 3",
   "language": "python",
   "name": "python3"
  },
  "language_info": {
   "codemirror_mode": {
    "name": "ipython",
    "version": 2
   },
   "file_extension": ".py",
   "mimetype": "text/x-python",
   "name": "python",
   "nbconvert_exporter": "python",
   "pygments_lexer": "ipython2",
   "version": "2.7.6"
  },
  "pycharm": {
   "stem_cell": {
    "cell_type": "raw",
    "source": [],
    "metadata": {
     "collapsed": false
    }
   }
  }
 },
 "nbformat": 4,
 "nbformat_minor": 0
}